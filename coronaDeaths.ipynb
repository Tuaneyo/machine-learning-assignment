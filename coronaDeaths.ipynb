{
 "cells": [
  {
   "cell_type": "markdown",
   "metadata": {},
   "source": [
    "## Corona Deaths Prediction\n",
    "\n",
    "This file will predict based on Machine Learning the change of the amount of deaths based on the given CSV file from the Windesheim in Almere. Aaron Weggemans & Tuan Nguyen are the contributors of this application. "
   ]
  },
  {
   "cell_type": "markdown",
   "metadata": {},
   "source": [
    "Tuan, wat ik nog moet nog zijn de predictions, die zijn opzich niet heel gigantisch lastig, alleen komt mijn data nog niet helemaal. Er zijn wat vreemde velden qua informatie wat ik terug krijg. Hier wil ik nog aan werken. "
   ]
  },
  {
   "cell_type": "code",
   "execution_count": 7,
   "metadata": {},
   "outputs": [],
   "source": [
    "# import libraries\n",
    "import numpy as np\n",
    "import matplotlib.pyplot as plt \n",
    "import pandas as pd\n",
    "import datetime as dt\n",
    "\n",
    "from sklearn.preprocessing import MinMaxScaler\n",
    "from tensorflow.keras.models import Sequential\n",
    "from tensorflow.keras.layers import Dense, Dropout, LSTM"
   ]
  },
  {
   "cell_type": "code",
   "execution_count": 8,
   "metadata": {},
   "outputs": [
    {
     "name": "stderr",
     "output_type": "stream",
     "text": [
      "/Library/Frameworks/Python.framework/Versions/3.7/lib/python3.7/site-packages/IPython/core/interactiveshell.py:3186: DtypeWarning: Columns (1,24) have mixed types.Specify dtype option on import or set low_memory=False.\n",
      "  interactivity=interactivity, compiler=compiler, result=result)\n"
     ]
    }
   ],
   "source": [
    "# Retrieves information form start date 2019 to 2021\n",
    "start_date = dt.datetime(2019, 1, 1)\n",
    "end_date =  dt.datetime(2021, 1, 1)\n",
    "\n",
    "uncutted_df = pd.read_csv(\"files/Case_PRB.csv\", sep=\",\", parse_dates=['date'], dayfirst=True)\n",
    "date_mask = (uncutted_df['date'] > start_date) & (uncutted_df['date'] <= end_date)\n",
    "country_mask = (uncutted_df['location'] == \"Netherlands\")\n",
    "\n",
    "filter_on_date = uncutted_df.loc[date_mask]\n",
    "df = filter_on_date.loc[country_mask]"
   ]
  },
  {
   "cell_type": "code",
   "execution_count": 9,
   "metadata": {},
   "outputs": [
    {
     "name": "stdout",
     "output_type": "stream",
     "text": [
      "[[[0.00000000e+00]\n",
      "  [0.00000000e+00]\n",
      "  [0.00000000e+00]\n",
      "  ...\n",
      "  [0.00000000e+00]\n",
      "  [0.00000000e+00]\n",
      "  [5.73230152e-06]]\n",
      "\n",
      " [[0.00000000e+00]\n",
      "  [0.00000000e+00]\n",
      "  [0.00000000e+00]\n",
      "  ...\n",
      "  [0.00000000e+00]\n",
      "  [5.73230152e-06]\n",
      "  [1.14646030e-05]]\n",
      "\n",
      " [[0.00000000e+00]\n",
      "  [0.00000000e+00]\n",
      "  [0.00000000e+00]\n",
      "  ...\n",
      "  [5.73230152e-06]\n",
      "  [1.14646030e-05]\n",
      "  [4.01261106e-05]]\n",
      "\n",
      " ...\n",
      "\n",
      " [[3.39002580e-01]\n",
      "  [3.43468042e-01]\n",
      "  [3.47216968e-01]\n",
      "  ...\n",
      "  [8.30255087e-01]\n",
      "  [8.58796217e-01]\n",
      "  [8.92118085e-01]]\n",
      "\n",
      " [[3.43468042e-01]\n",
      "  [3.47216968e-01]\n",
      "  [3.50524506e-01]\n",
      "  ...\n",
      "  [8.58796217e-01]\n",
      "  [8.92118085e-01]\n",
      "  [9.26276870e-01]]\n",
      "\n",
      " [[3.47216968e-01]\n",
      "  [3.50524506e-01]\n",
      "  [3.54170249e-01]\n",
      "  ...\n",
      "  [8.92118085e-01]\n",
      "  [9.26276870e-01]\n",
      "  [9.63496704e-01]]]\n"
     ]
    }
   ],
   "source": [
    "scaler = MinMaxScaler(feature_range=(0, 1))\n",
    "scaled_data = scaler.fit_transform(df['total_cases'].values.reshape(-1, 1))\n",
    "\n",
    "prediction_days = 60\n",
    "\n",
    "x_train = []\n",
    "y_train = []\n",
    "\n",
    "# Tuan hier moeten we nog wat data processed saus doen, omdat ik vet rare waardes terug krij\n",
    "for x in range(prediction_days, len(scaled_data)):\n",
    "  x_train.append(scaled_data[x - prediction_days:x, 0])\n",
    "  y_train.append(scaled_data[x, 0])\n",
    "\n",
    "x_train, y_train = np.array(x_train), np.array(y_train)\n",
    "x_train = np.reshape(x_train, (x_train.shape[0], x_train.shape[1], 1))\n",
    "\n",
    "print(x_train)"
   ]
  },
  {
   "cell_type": "markdown",
   "metadata": {},
   "source": [
    "Right now we have preprocessed our data into the rows we want to use it for. Right now we want to train our model to recieve learn from our dataframe"
   ]
  },
  {
   "cell_type": "code",
   "execution_count": 10,
   "metadata": {},
   "outputs": [
    {
     "name": "stdout",
     "output_type": "stream",
     "text": [
      "Train on 227 samples\n",
      "Epoch 1/25\n",
      "227/227 [==============================] - 4s 17ms/sample - loss: 0.0556\n",
      "Epoch 2/25\n",
      "227/227 [==============================] - 1s 3ms/sample - loss: 0.0186\n",
      "Epoch 3/25\n",
      "227/227 [==============================] - 1s 3ms/sample - loss: 0.0140\n",
      "Epoch 4/25\n",
      "227/227 [==============================] - 1s 3ms/sample - loss: 0.0074\n",
      "Epoch 5/25\n",
      "227/227 [==============================] - 1s 3ms/sample - loss: 0.0054\n",
      "Epoch 6/25\n",
      "227/227 [==============================] - 1s 3ms/sample - loss: 0.0039\n",
      "Epoch 7/25\n",
      "227/227 [==============================] - 1s 3ms/sample - loss: 0.0037\n",
      "Epoch 8/25\n",
      "227/227 [==============================] - 1s 3ms/sample - loss: 0.0031\n",
      "Epoch 9/25\n",
      "227/227 [==============================] - 1s 3ms/sample - loss: 0.0022\n",
      "Epoch 10/25\n",
      "227/227 [==============================] - 1s 4ms/sample - loss: 0.0036\n",
      "Epoch 11/25\n",
      "227/227 [==============================] - 1s 3ms/sample - loss: 0.0024\n",
      "Epoch 12/25\n",
      "227/227 [==============================] - 1s 4ms/sample - loss: 0.0019\n",
      "Epoch 13/25\n",
      "227/227 [==============================] - 1s 3ms/sample - loss: 0.0020\n",
      "Epoch 14/25\n",
      "227/227 [==============================] - 1s 3ms/sample - loss: 0.0029\n",
      "Epoch 15/25\n",
      "227/227 [==============================] - 1s 3ms/sample - loss: 0.0018\n",
      "Epoch 16/25\n",
      "227/227 [==============================] - 1s 3ms/sample - loss: 0.0014\n",
      "Epoch 17/25\n",
      "227/227 [==============================] - 1s 3ms/sample - loss: 0.0019\n",
      "Epoch 18/25\n",
      "227/227 [==============================] - 1s 3ms/sample - loss: 0.0015\n",
      "Epoch 19/25\n",
      "227/227 [==============================] - 1s 3ms/sample - loss: 0.0016\n",
      "Epoch 20/25\n",
      "227/227 [==============================] - 1s 3ms/sample - loss: 0.0013\n",
      "Epoch 21/25\n",
      "227/227 [==============================] - 1s 3ms/sample - loss: 0.0013\n",
      "Epoch 22/25\n",
      "227/227 [==============================] - 1s 3ms/sample - loss: 0.0012\n",
      "Epoch 23/25\n",
      "227/227 [==============================] - 1s 3ms/sample - loss: 0.0024\n",
      "Epoch 24/25\n",
      "227/227 [==============================] - 1s 3ms/sample - loss: 0.0014\n",
      "Epoch 25/25\n",
      "227/227 [==============================] - 1s 3ms/sample - loss: 0.0012\n"
     ]
    },
    {
     "data": {
      "text/plain": [
       "<tensorflow.python.keras.callbacks.History at 0x7f8bbe9ad090>"
      ]
     },
     "execution_count": 10,
     "metadata": {},
     "output_type": "execute_result"
    }
   ],
   "source": [
    "trainingRows = 25\n",
    "model = Sequential()\n",
    "\n",
    "model.add(LSTM(units=50, return_sequences=True, input_shape=(x_train.shape[1], 1)))\n",
    "model.add(Dropout(0.2))\n",
    "model.add(LSTM(units=50, return_sequences=True))\n",
    "model.add(Dropout(0.2))\n",
    "model.add(LSTM(units=50))\n",
    "model.add(Dropout(0.2))\n",
    "model.add(Dense(units=1))\n",
    "\n",
    "model.compile(optimizer=\"adam\", loss=\"mean_squared_error\")\n",
    "model.fit(x_train, y_train, epochs=trainingRows, batch_size=32)\n"
   ]
  },
  {
   "cell_type": "markdown",
   "metadata": {},
   "source": [
    "Right now we want to retrieve the information, but then filtered on the information from the last moment until now"
   ]
  },
  {
   "cell_type": "code",
   "execution_count": 13,
   "metadata": {},
   "outputs": [
    {
     "name": "stderr",
     "output_type": "stream",
     "text": [
      "/Library/Frameworks/Python.framework/Versions/3.7/lib/python3.7/site-packages/IPython/core/interactiveshell.py:3186: DtypeWarning: Columns (1,24) have mixed types.Specify dtype option on import or set low_memory=False.\n",
      "  interactivity=interactivity, compiler=compiler, result=result)\n"
     ]
    }
   ],
   "source": [
    "test_start = dt.datetime(2021, 1, 1)\n",
    "test_end = dt.datetime.now()\n",
    "\n",
    "uncutted_df = pd.read_csv(\"files/Case_PRB.csv\", sep=\",\", parse_dates=['date'], dayfirst=True)\n",
    "date_mask = (uncutted_df['date'] > start_date) & (uncutted_df['date'] <= end_date)\n",
    "country_mask = (uncutted_df['location'] == \"Netherlands\")\n",
    "filter_on_date = uncutted_df.loc[date_mask]\n",
    "test_df = filter_on_date.loc[country_mask]\n",
    "\n",
    "total_cases = test_df['total_cases'].values\n",
    "total_dataset = pd.concat((df['total_cases'], test_df['total_cases']))\n",
    "model_inputs = total_dataset[len(total_dataset) - len(test_df) - prediction_days:].values\n",
    "model_inputs = model_inputs.reshape(-1, 1)\n",
    "model_inputs = scaler.transform(model_inputs)"
   ]
  },
  {
   "cell_type": "markdown",
   "metadata": {},
   "source": [
    "Lets make a prediction on the test data"
   ]
  },
  {
   "cell_type": "code",
   "execution_count": 14,
   "metadata": {},
   "outputs": [],
   "source": [
    "x_test = []\n",
    "\n",
    "for x in range(prediction_days, len(model_inputs)):\n",
    "  x_test.append(model_inputs[x - prediction_days:x, 0])\n",
    "\n",
    "x_test = np.array(x_test)\n",
    "x_test = np.reshape(x_test, (x_test.shape[0], x_test.shape[1], 1))\n",
    "\n",
    "predicted_deaths = model.predict(x_test)\n",
    "predicted_deaths = scaler.inverse_transform(predicted_deaths)"
   ]
  },
  {
   "cell_type": "code",
   "execution_count": 15,
   "metadata": {},
   "outputs": [
    {
     "data": {
      "image/png": "[encoded data removed]",
      "text/plain": [
       "<Figure size 432x288 with 1 Axes>"
      ]
     },
     "metadata": {
      "needs_background": "light"
     },
     "output_type": "display_data"
    }
   ],
   "source": [
    "plt.plot(total_cases, color=\"black\", label=f\"Actual Deaths\")\n",
    "plt.plot(predicted_deaths, color=\"green\", label=f\"Predicted Deaths\")\n",
    "plt.title(f\"Predctions of the deaths\")\n",
    "plt.xlabel(\"Days\")\n",
    "plt.ylabel(f\"Share Deaths\")\n",
    "plt.legend()\n",
    "plt.show()"
   ]
  },
  {
   "cell_type": "code",
   "execution_count": null,
   "metadata": {},
   "outputs": [],
   "source": []
  }
 ],
 "metadata": {
  "interpreter": {
   "hash": "aee8b7b246df8f9039afb4144a1f6fd8d2ca17a180786b69acc140d282b71a49"
  },
  "kernelspec": {
   "display_name": "Python 3.7.4 64-bit",
   "language": "python",
   "name": "python3"
  },
  "language_info": {
   "codemirror_mode": {
    "name": "ipython",
    "version": 3
   },
   "file_extension": ".py",
   "mimetype": "text/x-python",
   "name": "python",
   "nbconvert_exporter": "python",
   "pygments_lexer": "ipython3",
   "version": "3.7.4"
  },
  "orig_nbformat": 4
 },
 "nbformat": 4,
 "nbformat_minor": 2
}
