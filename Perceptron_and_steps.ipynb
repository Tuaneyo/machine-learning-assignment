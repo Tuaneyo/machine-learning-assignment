{
 "cells": [
  {
   "cell_type": "code",
   "execution_count": null,
   "metadata": {},
   "outputs": [],
   "source": [
    "# Linear Regression algorithm\n",
    "\n",
    "x_input = [0.1, 0.5, 0.2] # random inputs data sample\n",
    "w_weight = [0.4, 0.3, 0.6] # random weighted data sample\n",
    "threshold = 0.5 # predefined threshold\n",
    "\n",
    "# Make use of step function \n",
    "def step(weighted_sum):\n",
    "  if weighted_sum > threshold:\n",
    "    return 1\n",
    "  else:\n",
    "    return 0\n",
    "\n",
    "\n",
    "def perceptron():\n",
    "  weighted_sum = 0\n",
    "  for x,w in zip(x_input, w_weight):\n",
    "    weighted_sum += x*w\n",
    "    print(weighted_sum)\n",
    "  return step(weighted_sum)\n",
    "\n",
    "output = perceptron()\n",
    "print(\"output: \" + str(output))"
   ]
  }
 ],
 "metadata": {
  "language_info": {
   "name": "python"
  },
  "orig_nbformat": 4
 },
 "nbformat": 4,
 "nbformat_minor": 2
}
