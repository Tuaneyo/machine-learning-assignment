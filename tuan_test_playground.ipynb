{
 "cells": [
  {
   "cell_type": "markdown",
   "metadata": {},
   "source": [
    "# Linear Regression "
   ]
  },
  {
   "cell_type": "code",
   "execution_count": 16,
   "metadata": {},
   "outputs": [],
   "source": [
    "import pandas as pd\n",
    "import numpy as np\n",
    "import matplotlib.pyplot as plt \n",
    "from sklearn import linear_model\n"
   ]
  },
  {
   "cell_type": "code",
   "execution_count": 29,
   "metadata": {},
   "outputs": [
    {
     "name": "stdout",
     "output_type": "stream",
     "text": [
      "4.753521755078013 0.6414239082834265\n"
     ]
    },
    {
     "data": {
      "text/plain": [
       "[<matplotlib.lines.Line2D at 0x28318a7a550>]"
      ]
     },
     "execution_count": 29,
     "metadata": {},
     "output_type": "execute_result"
    },
    {
     "data": {
      "image/png": "[encoded data removed]",
      "text/plain": [
       "<Figure size 432x288 with 1 Axes>"
      ]
     },
     "metadata": {
      "needs_background": "light"
     },
     "output_type": "display_data"
    }
   ],
   "source": [
    "# This is a practice area, however this practiced material can be used for the assignment\n",
    "\n",
    "df = pd.read_csv('files/deathrate.csv')\n",
    "\n",
    "def gradient_descent(a_now, b_now, points, L):\n",
    "  a_gradient = 0\n",
    "  b_gradient = 0\n",
    "\n",
    "  n = len(points)\n",
    "  for i in range(n):\n",
    "    x = points.iloc[i].x_as\n",
    "    y = points.iloc[i].y_as\n",
    "\n",
    "    # formula for calculating the intercept m and coefficient m\n",
    "    a_gradient += -(1) * x * (y - (a_now * x + b_now))\n",
    "    b_gradient += -(1) * (y - (a_now * x + b_now))\n",
    "\n",
    "  m = a_now - a_gradient * L\n",
    "  b = b_now - b_gradient * L\n",
    "  return m, b\n",
    "\n",
    "a = 0 # coefficient\n",
    "b = 0 # y-intercept\n",
    "L = 0.0001 # learning rate\n",
    "epochs = 1000\n",
    "\n",
    "\n",
    "for i in range(epochs):\n",
    "  a, b = gradient_descent(a, b, df, L)\n",
    "\n",
    "print(a, b)\n",
    "\n",
    "plt.xlabel('x as')\n",
    "plt.ylabel('y as')\n",
    "plt.scatter(df.x_as, df.y_as, color='blue')\n",
    "plt.plot(list(range(13, 22)), [a * x + b for x in range(13, 22)], color=\"red\")\n"
   ]
  },
  {
   "cell_type": "code",
   "execution_count": null,
   "metadata": {},
   "outputs": [],
   "source": []
  }
 ],
 "metadata": {
  "interpreter": {
   "hash": "31f2aee4e71d21fbe5cf8b01ff0e069b9275f58929596ceb00d14d90e3e16cd6"
  },
  "kernelspec": {
   "display_name": "Python 3.8.2 64-bit",
   "language": "python",
   "name": "python3"
  },
  "language_info": {
   "codemirror_mode": {
    "name": "ipython",
    "version": 3
   },
   "file_extension": ".py",
   "mimetype": "text/x-python",
   "name": "python",
   "nbconvert_exporter": "python",
   "pygments_lexer": "ipython3",
   "version": "3.9.1"
  },
  "orig_nbformat": 4
 },
 "nbformat": 4,
 "nbformat_minor": 2
}
